{
 "cells": [
  {
   "cell_type": "code",
   "execution_count": 13,
   "id": "2e58b9b5",
   "metadata": {},
   "outputs": [],
   "source": [
    "import pandas as pd\n",
    "import geopandas as gpd #allows for world map overlay\n",
    "from shapely.geometry import Polygon\n",
    "\n",
    "import numpy as np\n",
    "from PIL import Image\n",
    "\n",
    "import matplotlib.pyplot as plt\n",
    "from matplotlib.colors import ListedColormap, BoundaryNorm\n",
    "import matplotlib.colors as mcolors\n",
    "\n",
    "import tkinter as tk\n",
    "from tkinter import simpledialog, messagebox\n",
    "\n",
    "import fsspec\n",
    "from datetime import datetime\n",
    "from shapely.geometry import box\n",
    "import csv"
   ]
  },
  {
   "cell_type": "code",
   "execution_count": 15,
   "id": "1176017f",
   "metadata": {},
   "outputs": [
    {
     "name": "stdout",
     "output_type": "stream",
     "text": [
      "Number of lines in the CSV file:  194016\n"
     ]
    }
   ],
   "source": [
    "#csv.reader(\"coordinates_dates_2022.csv\")\n",
    "df = pd.read_csv('coordinates_dates_2022.csv')\n",
    "num_lines = df.shape[0]\n",
    "\n",
    "# Print the number of lines in the CSV file\n",
    "print(\"Number of lines in the CSV file: \", num_lines)"
   ]
  },
  {
   "cell_type": "code",
   "execution_count": null,
   "id": "a1aa4442",
   "metadata": {},
   "outputs": [],
   "source": [
    "# -------------------------------------------------------------------\n",
    "# World Map Overlay\n",
    "# -------------------------------------------------------------------\n",
    "# Function to plot world map outline\n",
    "\n",
    "url = \"https://www.naturalearthdata.com/http//www.naturalearthdata.com/download/110m/cultural/110m_cultural.zip\"\n",
    "\n",
    "def plot_world_map(ax):    \n",
    "    with fsspec.open(f\"simplecache::{url}\") as file:\n",
    "        world = gpd.read_file(file)\n",
    "    #world = gpd.read_file(gpd.datasets.get_path('naturalearth_lowres'))\n",
    "    world.plot(ax=ax, color='none', edgecolor='black', linewidth=1)"
   ]
  },
  {
   "cell_type": "code",
   "execution_count": null,
   "id": "9bb7c26b",
   "metadata": {},
   "outputs": [],
   "source": [
    "%%time\n",
    "df = pd.read_csv('coordinates_dates_2022.csv')\n",
    "df['geometry'] = df.apply(lambda row: Polygon([\n",
    "    (row['coordinate1_lon'], row['coordinate1_lat']),\n",
    "    (row['coordinate2_lon'], row['coordinate2_lat']),\n",
    "    (row['coordinate3_lon'], row['coordinate3_lat']),\n",
    "    (row['coordinate4_lon'], row['coordinate4_lat']),\n",
    "    (row['coordinate5_lon'], row['coordinate5_lat']),\n",
    "]), axis=1)\n"
   ]
  },
  {
   "cell_type": "code",
   "execution_count": null,
   "id": "be4508f4",
   "metadata": {},
   "outputs": [],
   "source": [
    "%%time\n",
    "# Create a GeoDataFrame from the DataFrame\n",
    "gdf = gpd.GeoDataFrame(df, geometry='geometry')"
   ]
  },
  {
   "cell_type": "code",
   "execution_count": null,
   "id": "581d1077",
   "metadata": {},
   "outputs": [],
   "source": [
    "%%time\n",
    "minx, miny, maxx, maxy = gdf.total_bounds\n",
    "width = maxx - minx\n",
    "height = maxy - miny\n",
    "\n",
    "# Define the number of divisions in the grid\n",
    "divisions = 150"
   ]
  },
  {
   "cell_type": "code",
   "execution_count": null,
   "id": "5f3b6dd1",
   "metadata": {},
   "outputs": [],
   "source": [
    "%%time\n",
    "# Initialize an empty list to hold the data dictionaries\n",
    "full_year_data_list = []\n",
    "\n",
    "# Populate the list with counts\n",
    "for i in range(divisions):\n",
    "    for j in range(divisions):\n",
    "        # Define the corners of the grid cell\n",
    "        cell_minx = minx + i * (width / divisions)\n",
    "        cell_miny = miny + j * (height / divisions)\n",
    "        cell_maxx = minx + (i + 1) * (width / divisions)\n",
    "        cell_maxy = miny + (j + 1) * (height / divisions)\n",
    "        cell = Polygon([(cell_minx, cell_miny), (cell_maxx, cell_miny), (cell_maxx, cell_maxy), (cell_minx, cell_maxy)])\n",
    "        count = gdf[gdf.geometry.intersects(cell)].shape[0]\n",
    "        full_year_data_list.append({'geometry': cell, 'count': count})"
   ]
  },
  {
   "cell_type": "code",
   "execution_count": null,
   "id": "ee336956",
   "metadata": {},
   "outputs": [],
   "source": [
    "%%time\n",
    "# Convert the list of dictionaries to a GeoDataFrame\n",
    "heatmap_gdf = gpd.GeoDataFrame(full_year_data_list)\n"
   ]
  },
  {
   "cell_type": "code",
   "execution_count": null,
   "id": "cf841184",
   "metadata": {},
   "outputs": [],
   "source": [
    "heatmap_gdf.to_csv('polygon_only_2022.csv', index=False)"
   ]
  }
 ],
 "metadata": {
  "kernelspec": {
   "display_name": "Python 3 (ipykernel)",
   "language": "python",
   "name": "python3"
  },
  "language_info": {
   "codemirror_mode": {
    "name": "ipython",
    "version": 3
   },
   "file_extension": ".py",
   "mimetype": "text/x-python",
   "name": "python",
   "nbconvert_exporter": "python",
   "pygments_lexer": "ipython3",
   "version": "3.11.5"
  }
 },
 "nbformat": 4,
 "nbformat_minor": 5
}
