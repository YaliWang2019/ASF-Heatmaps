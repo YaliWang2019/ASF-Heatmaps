{
 "cells": [
  {
   "cell_type": "code",
   "execution_count": 1,
   "id": "8545b85d",
   "metadata": {},
   "outputs": [],
   "source": [
    "import os\n",
    "import asf_search as asf\n",
    "import pandas as pd\n",
    "import numpy as np\n",
    "import json\n",
    "import sqlalchemy\n",
    "from sqlalchemy import create_engine\n",
    "from io import StringIO\n",
    "from tqdm import tqdm\n",
    "import tempfile"
   ]
  },
  {
   "cell_type": "code",
   "execution_count": 12,
   "id": "b6eef9a0",
   "metadata": {},
   "outputs": [
    {
     "data": {
      "text/plain": [
       "100"
      ]
     },
     "execution_count": 12,
     "metadata": {},
     "output_type": "execute_result"
    }
   ],
   "source": [
    "asf.CMR_TIMEOUT"
   ]
  },
  {
   "cell_type": "code",
   "execution_count": 4,
   "id": "20600c06",
   "metadata": {},
   "outputs": [],
   "source": [
    "new_opts = {\n",
    "    'platform' : asf.SENTINEL1,\n",
    "    'processingLevel': asf.SLC,\n",
    "    'start': '2023-10-27T00:00:00Z',\n",
    "    'end': '2023-11-27T23:59:59Z'\n",
    "}\n"
   ]
  },
  {
   "cell_type": "code",
   "execution_count": 5,
   "id": "28098fd4",
   "metadata": {},
   "outputs": [],
   "source": [
    "new_results = asf.search(**new_opts)"
   ]
  },
  {
   "cell_type": "code",
   "execution_count": 50,
   "id": "ec828500",
   "metadata": {},
   "outputs": [],
   "source": [
    "data = []\n",
    "for result in results:\n",
    "    coordinates = result.geometry['coordinates'][0]\n",
    "    data.append({\n",
    "        'coordinate1_lat': coordinates[0][0],\n",
    "        'coordinate1_lon': coordinates[0][1],\n",
    "        'coordinate2_lat': coordinates[1][0],\n",
    "        'coordinate2_lon': coordinates[1][1],\n",
    "        'coordinate3_lat': coordinates[2][0],\n",
    "        'coordinate3_lon': coordinates[2][1],\n",
    "        'coordinate4_lat': coordinates[3][0],\n",
    "        'coordinate4_lon': coordinates[3][1],\n",
    "        'coordinate5_lat': coordinates[4][0],\n",
    "        'coordinate5_lon': coordinates[4][1],\n",
    "    })\n",
    "\n",
    "# Create a DataFrame\n",
    "df = pd.DataFrame(data)"
   ]
  },
  {
   "cell_type": "code",
   "execution_count": 2,
   "id": "5093114c",
   "metadata": {},
   "outputs": [],
   "source": [
    "results = asf.search(platform=asf.SENTINEL1, maxResults=100000)\n",
    "#pulling all data or even just half of them (1,000,000) takes very very long time and runs out of my laptop's memory\n",
    "#so using 100,000 temporarily"
   ]
  },
  {
   "cell_type": "code",
   "execution_count": 51,
   "id": "6ce0c47a",
   "metadata": {},
   "outputs": [],
   "source": [
    "df_new.to_csv('coordinates_only_100000.csv', index=False)"
   ]
  },
  {
   "cell_type": "code",
   "execution_count": 88,
   "id": "7e02ef55",
   "metadata": {},
   "outputs": [
    {
     "data": {
      "text/plain": [
       "[[8.359907, 47.722855],\n",
       " [8.410095, 47.539053],\n",
       " [9.022291, 47.610525],\n",
       " [9.601215, 47.674819],\n",
       " [9.553232, 47.867063],\n",
       " [8.973219, 47.798555],\n",
       " [8.359907, 47.722855]]"
      ]
     },
     "execution_count": 88,
     "metadata": {},
     "output_type": "execute_result"
    }
   ],
   "source": [
    "result.geometry['coordinates'][0]"
   ]
  },
  {
   "cell_type": "code",
   "execution_count": 78,
   "id": "70890a96",
   "metadata": {},
   "outputs": [
    {
     "name": "stdout",
     "output_type": "stream",
     "text": [
      "100000\n"
     ]
    }
   ],
   "source": [
    "print(len(results))"
   ]
  },
  {
   "cell_type": "code",
   "execution_count": 86,
   "id": "68b3bbc5",
   "metadata": {},
   "outputs": [],
   "source": [
    "def database():\n",
    "    data_new2 = []\n",
    "    for result in results:\n",
    "        coordinates = result.geometry['coordinates'][0]\n",
    "        start_date = result.properties['startTime']\n",
    "        data_new2.append({\n",
    "            'coordinate1_lat': coordinates[0][0],\n",
    "            'coordinate1_lon': coordinates[0][1],\n",
    "            'coordinate2_lat': coordinates[1][0],\n",
    "            'coordinate2_lon': coordinates[1][1],\n",
    "            'coordinate3_lat': coordinates[2][0],\n",
    "            'coordinate3_lon': coordinates[2][1],\n",
    "            'coordinate4_lat': coordinates[3][0],\n",
    "            'coordinate4_lon': coordinates[3][1],\n",
    "            'coordinate5_lat': coordinates[4][0],\n",
    "            'coordinate5_lon': coordinates[4][1],\n",
    "            'start date': start_date,\n",
    "        })\n",
    "\n",
    "    # Create a DataFrame\n",
    "    df_new = pd.DataFrame(data_new2)\n",
    "    return df_new\n",
    "    # print(data_new2)"
   ]
  },
  {
   "cell_type": "code",
   "execution_count": 77,
   "id": "ba3977f0",
   "metadata": {},
   "outputs": [
    {
     "data": {
      "text/plain": [
       "'2023-11-27T23:09:52.574005Z'"
      ]
     },
     "execution_count": 77,
     "metadata": {},
     "output_type": "execute_result"
    }
   ],
   "source": [
    "results[10000].properties['startTime']"
   ]
  },
  {
   "cell_type": "code",
   "execution_count": 87,
   "id": "2d5bbbf9",
   "metadata": {},
   "outputs": [],
   "source": [
    "df_new2 = database()\n",
    "df_new2.to_csv('coordinates_dates_100000.csv', index=False)"
   ]
  },
  {
   "cell_type": "code",
   "execution_count": 46,
   "id": "48ccbc89",
   "metadata": {},
   "outputs": [],
   "source": [
    "data_new = []\n",
    "for result in results:\n",
    "    coordinates = result.geometry['coordinates'][0]\n",
    "    start_date = result.properties['startTime']\n",
    "    data.append({\n",
    "        'start date': start_date,\n",
    "    })\n",
    "\n",
    "# Create a DataFrame\n",
    "df_new = pd.DataFrame(data_new)"
   ]
  },
  {
   "cell_type": "code",
   "execution_count": 62,
   "id": "f0ed3609",
   "metadata": {},
   "outputs": [],
   "source": [
    "df_new.to_csv('coordinates_dates_100000.csv', index=False)"
   ]
  },
  {
   "cell_type": "code",
   "execution_count": 5,
   "id": "7405bd1c",
   "metadata": {},
   "outputs": [],
   "source": [
    "engine = create_engine('sqlite:///sentinel1_slc_1000000.db')"
   ]
  },
  {
   "cell_type": "code",
   "execution_count": 6,
   "id": "d58de025",
   "metadata": {},
   "outputs": [
    {
     "data": {
      "text/plain": [
       "100000"
      ]
     },
     "execution_count": 6,
     "metadata": {},
     "output_type": "execute_result"
    }
   ],
   "source": [
    "df.to_sql('geometry_coordinates', engine, if_exists='replace', index=False)"
   ]
  },
  {
   "cell_type": "code",
   "execution_count": 49,
   "id": "2def4155",
   "metadata": {},
   "outputs": [
    {
     "data": {
      "text/plain": [
       "'2023-11-24T17:16:12.850062Z'"
      ]
     },
     "execution_count": 49,
     "metadata": {},
     "output_type": "execute_result"
    }
   ],
   "source": [
    "start_date = result.properties['startTime']\n",
    "start_date"
   ]
  },
  {
   "cell_type": "code",
   "execution_count": 8,
   "id": "15fa9522",
   "metadata": {},
   "outputs": [
    {
     "data": {
      "text/plain": [
       "{'beamModeType': 'IW',\n",
       " 'browse': None,\n",
       " 'bytes': 1121154402,\n",
       " 'centerLat': -6.6355,\n",
       " 'centerLon': -51.9682,\n",
       " 'faradayRotation': None,\n",
       " 'fileID': 'S1A_IW_RAW__0SDV_20231128T090746_20231128T090808_051415_063470_97C2-RAW',\n",
       " 'flightDirection': 'DESCENDING',\n",
       " 'groupID': 'S1A_IWDV_0613_0617_051415_068',\n",
       " 'granuleType': 'SENTINEL_1A_FRAME',\n",
       " 'insarStackId': None,\n",
       " 'md5sum': '3b46382b43c670ae77074d2ac6a83961',\n",
       " 'offNadirAngle': None,\n",
       " 'orbit': 51415,\n",
       " 'pathNumber': 68,\n",
       " 'platform': 'Sentinel-1A',\n",
       " 'pointingAngle': None,\n",
       " 'polarization': 'VV+VH',\n",
       " 'processingDate': '2023-11-28T09:07:46.376Z',\n",
       " 'processingLevel': 'RAW',\n",
       " 'sceneName': 'S1A_IW_RAW__0SDV_20231128T090746_20231128T090808_051415_063470_97C2',\n",
       " 'sensor': 'C-SAR',\n",
       " 'startTime': '2023-11-28T09:07:46.376Z',\n",
       " 'stopTime': '2023-11-28T09:08:08.612Z',\n",
       " 'url': 'https://datapool.asf.alaska.edu/RAW/SA/S1A_IW_RAW__0SDV_20231128T090746_20231128T090808_051415_063470_97C2.zip',\n",
       " 'pgeVersion': None,\n",
       " 'fileName': 'S1A_IW_RAW__0SDV_20231128T090746_20231128T090808_051415_063470_97C2.zip',\n",
       " 'frameNumber': 613}"
      ]
     },
     "execution_count": 8,
     "metadata": {},
     "output_type": "execute_result"
    }
   ],
   "source": [
    "results[0].properties"
   ]
  },
  {
   "cell_type": "code",
   "execution_count": 9,
   "id": "2488d596",
   "metadata": {},
   "outputs": [
    {
     "data": {
      "text/plain": [
       "{'beamModeType': 'IW',\n",
       " 'browse': None,\n",
       " 'bytes': 161013460,\n",
       " 'centerLat': 47.70229118340123,\n",
       " 'centerLon': 8.985085039215441,\n",
       " 'faradayRotation': None,\n",
       " 'fileID': 'S1_030352_IW2_20231124T171611_VH_E1F5-BURST',\n",
       " 'flightDirection': 'ASCENDING',\n",
       " 'groupID': 'S1A_IWDV_0154_0159_051362_015',\n",
       " 'granuleType': None,\n",
       " 'insarStackId': None,\n",
       " 'md5sum': None,\n",
       " 'offNadirAngle': None,\n",
       " 'orbit': 51362,\n",
       " 'pathNumber': 15,\n",
       " 'platform': 'SENTINEL-1A',\n",
       " 'pointingAngle': None,\n",
       " 'polarization': 'VH',\n",
       " 'processingDate': None,\n",
       " 'processingLevel': 'BURST',\n",
       " 'sceneName': 'S1_030352_IW2_20231124T171611_VH_E1F5-BURST',\n",
       " 'sensor': 'C-SAR',\n",
       " 'startTime': '2023-11-24T17:16:12.850062Z',\n",
       " 'stopTime': '2023-11-24T17:16:15.960119Z',\n",
       " 'url': 'https://sentinel1-burst.asf.alaska.edu/S1A_IW_SLC__1SDV_20231124T171610_20231124T171637_051362_0632A5_E1F5/IW2/VH/0.tiff',\n",
       " 'pgeVersion': '003.71',\n",
       " 'fileName': 'S1_030352_IW2_20231124T171611_VH_E1F5-BURST.tiff',\n",
       " 'frameNumber': None,\n",
       " 'burst': {'absoluteBurstID': 110320004,\n",
       "  'relativeBurstID': 30352,\n",
       "  'fullBurstID': '015_030352_IW2',\n",
       "  'burstIndex': 0,\n",
       "  'samplesPerBurst': 26605,\n",
       "  'subswath': 'IW2',\n",
       "  'azimuthTime': '2023-11-24T17:16:11.841726',\n",
       "  'azimuthAnxTime': '774.4811835546'},\n",
       " 'additionalUrls': ['https://sentinel1-burst.asf.alaska.edu/S1A_IW_SLC__1SDV_20231124T171610_20231124T171637_051362_0632A5_E1F5/IW2/VH/0.xml']}"
      ]
     },
     "execution_count": 9,
     "metadata": {},
     "output_type": "execute_result"
    }
   ],
   "source": [
    "results[99999].properties"
   ]
  },
  {
   "cell_type": "code",
   "execution_count": null,
   "id": "ea228c7d",
   "metadata": {},
   "outputs": [],
   "source": [
    "session = asf.ASFSession().auth_with_creds('lemonaka', 'Levanka19971129!')"
   ]
  },
  {
   "cell_type": "code",
   "execution_count": null,
   "id": "200ae19e",
   "metadata": {},
   "outputs": [],
   "source": [
    "results"
   ]
  },
  {
   "cell_type": "code",
   "execution_count": null,
   "id": "67863989",
   "metadata": {},
   "outputs": [],
   "source": [
    "results.download(path='./Data', session=session)\n"
   ]
  },
  {
   "cell_type": "code",
   "execution_count": null,
   "id": "8acf187e",
   "metadata": {},
   "outputs": [],
   "source": [
    "import csv"
   ]
  },
  {
   "cell_type": "code",
   "execution_count": null,
   "id": "398b623c",
   "metadata": {},
   "outputs": [],
   "source": [
    "# Define the maximum number of rows per file\n",
    "max_rows_per_file = 1000000\n",
    "\n",
    "# Initialize variables for tracking\n",
    "current_file_index = 1\n",
    "current_row_count = 0\n",
    "current_file = open(f\"SENTINEL1-SLC_part{current_file_index}.csv\", 'w')\n",
    "\n",
    "# Iterate over the CSV stream\n",
    "for line in results.csv():\n",
    "    # Write the line to the current file\n",
    "    current_file.write(line + '\\n')\n",
    "    current_row_count += 1\n",
    "\n",
    "    # Check if the current file has reached the maximum row limit\n",
    "    if current_row_count >= max_rows_per_file:\n",
    "        # Close the current file and open a new one\n",
    "        current_file.close()\n",
    "        current_file_index += 1\n",
    "        current_file = open(f\"SENTINEL1-SLC_part{current_file_index}.csv\", 'w')\n",
    "        current_row_count = 0\n",
    "\n",
    "# Close the last file\n",
    "current_file.close()\n",
    "\n",
    "print(f\"Data split into {current_file_index} files.\")\n"
   ]
  },
  {
   "cell_type": "code",
   "execution_count": null,
   "id": "d9c9bb5e",
   "metadata": {},
   "outputs": [],
   "source": [
    "#session = asf.ASFSession().auth_with_creds('user', 'pass')\n",
    "#\n",
    "\n",
    "total_lines = asf.search_count(**opts) \n",
    "\n",
    "with open(\"SENTINEL1-SLC_wholeData.csv\", \"w\") as f:\n",
    "    # Wrap results.csv() with tqdm for a progress bar\n",
    "    for line in tqdm(results.csv(), total=20, desc=\"Writing CSV\"):\n",
    "        f.write(line + '\\n')  # Write each line to the file\n"
   ]
  },
  {
   "cell_type": "code",
   "execution_count": null,
   "id": "9678dcca",
   "metadata": {},
   "outputs": [],
   "source": [
    "def load_data_to_db(iterator, engine, table_name, chunksize=10000):\n",
    "    first_chunk = True\n",
    "    for chunk in tqdm(iterator, desc=\"Loading Data\"):\n",
    "        if_exists_option = 'replace' if first_chunk else 'append'\n",
    "        chunk.to_sql(table_name, engine, if_exists=if_exists_option, index=False)\n",
    "        first_chunk = False"
   ]
  },
  {
   "cell_type": "code",
   "execution_count": null,
   "id": "ed1073a3",
   "metadata": {},
   "outputs": [],
   "source": [
    "chunk_size = 100000 # 100,000 / 2,300,000\n",
    "table_name = 'sentinel_data'\n",
    "if_exists = 'replace'  # Use 'append' after the first chunk\n",
    "\n",
    "for i, chunk in enumerate(pd.read_csv(results.csv(), chunksize=chunk_size)):\n",
    "    process_and_load_chunk(chunk, engine, table_name, if_exists)\n",
    "    if_exists = 'append'  # Subsequent chunks will be appended\n",
    "    print(f\"Processed chunk {i+1}\")  # Simple progress output\n"
   ]
  },
  {
   "cell_type": "code",
   "execution_count": null,
   "id": "a75eaa09",
   "metadata": {},
   "outputs": [],
   "source": [
    "\n"
   ]
  }
 ],
 "metadata": {
  "kernelspec": {
   "display_name": "Python 3 (ipykernel)",
   "language": "python",
   "name": "python3"
  },
  "language_info": {
   "codemirror_mode": {
    "name": "ipython",
    "version": 3
   },
   "file_extension": ".py",
   "mimetype": "text/x-python",
   "name": "python",
   "nbconvert_exporter": "python",
   "pygments_lexer": "ipython3",
   "version": "3.11.5"
  }
 },
 "nbformat": 4,
 "nbformat_minor": 5
}
